{
 "cells": [
  {
   "cell_type": "markdown",
   "id": "81a974de",
   "metadata": {},
   "source": [
    "# Questão 3.\n",
    "Compare seus resultados do seu modelo da com o do livro questão (2 no\n",
    "caso), e\n",
    "Defina como seria possível extrair, do seu modelo. a seguinte regra genérica que classifica\n",
    "trens indo para o leste (east), apenas descreva como seria a extração baseado no\n",
    "algoritmo de extração visto em sala (e no material de classe):\n",
    "\n",
    "## 1. car(T,C)∧short(C)∧closed_top(C) → east(T) ( no caso dos 10 trens)"
   ]
  },
  {
   "cell_type": "markdown",
   "id": "796ecc53",
   "metadata": {},
   "source": [
    "\n",
    "### 1. Extração da Regra Genérica para Classificar Trens Indo para o Leste\n",
    "\n",
    "#### 1.1. Descrição da Regra\n",
    "A regra fornecida é:\n",
    "```\n",
    "car(T,C) ∧ short(C) ∧ closed_top(C) → east(T)\n",
    "```\n",
    "Esta regra implica que, dado um trem `T` e um vagão `C`, se o vagão for curto (`short(C)`) e tiver um topo fechado (`closed_top(C)`), então o trem `T` vai para o **leste**.\n",
    "\n",
    "### 1.2. Algoritmo de Extração\n",
    "A extração de regras a partir de um modelo treinado pode ser feita utilizando algoritmos de **interpretação de modelos** ou **métodos de extração de regras**. Isso pode envolver a análise de **árvores de decisão**, ou modelos interpretáveis como **regressão logística** ou **árvores de decisão de classificação**.\n",
    "\n",
    "#### Para o seu modelo, a extração de regras pode ser feita da seguinte maneira:\n",
    "\n",
    "1. **Identificar as variáveis relevantes**:\n",
    "   - Para extrair uma regra similar à apresentada, devemos identificar as características (colunas) que indicam se o vagão é \"curto\" (`short(C)`) e se o \"topo\" é \"fechado\" (`closed_top(C)`).\n",
    "   \n",
    "2. **Verificar as relações**:\n",
    "   - Durante o treinamento, o modelo (exemplo, uma árvore de decisão) pode aprender que a combinação dessas características tem uma alta probabilidade de classificar o trem para o leste. Para isso, é necessário verificar as divisões na árvore de decisão que indicam essas características.\n",
    "\n",
    "3. **Converter as condições do modelo em uma regra**:\n",
    "   - Uma vez que o modelo tenha sido treinado, você pode extrair as divisões ou as regras de uma árvore de decisão que correspondem à combinação dessas variáveis. Por exemplo, se o modelo de árvore de decisão dividiu os dados usando `short(C)` e `closed_top(C)` para determinar a classificação, isso pode ser traduzido diretamente para a regra.\n",
    "   \n",
    "#### Exemplo de como seria a extração:\n",
    "1. Se a árvore de decisão foi treinada e as primeiras divisões forem sobre `short(C)` e `closed_top(C)`, o modelo pode gerar uma regra como:\n",
    "\n",
    "```\n",
    "Se short(C) == True e closed_top(C) == True, então east(T) = 1\n",
    "```\n",
    "\n",
    "Isso reflete a regra do livro."
   ]
  },
  {
   "cell_type": "markdown",
   "id": "0d907158",
   "metadata": {},
   "source": [
    "## 2. Existe alguma regra similar para os 100 trens? Se não, quantas possíveis deveria seu modelo ser capaz de extrair?"
   ]
  },
  {
   "cell_type": "markdown",
   "id": "b8b177c7",
   "metadata": {},
   "source": [
    "### 2. Regras para os 100 Trens\n",
    "\n",
    "#### 2.1. Quantas Regras Podem Ser Extraídas para os 100 Trens?\n",
    "No caso dos **100 trens**, o número de regras extraídas depende da complexidade do modelo (por exemplo, uma árvore de decisão pode extrair muitas regras com diferentes combinações de características). Uma possível estratégia seria:\n",
    "\n",
    "- Para um modelo de **árvore de decisão**, o número de regras seria o número de caminhos até as folhas da árvore que geram a classificação de \"leste\" (east) ou \"oeste\".\n",
    "- Dependendo da complexidade do modelo, ele pode ser capaz de extrair várias regras para classificar os trens para o **leste** (e.g., uma árvore com várias camadas de divisões baseadas em características como o número de vagões ou o formato do topo do vagão).\n",
    "\n",
    "#### 2.2. Se Não Houver Regras Semelhantes, Quantas Possíveis o Modelo Deveria Ser Capaz de Extrair?\n",
    "Em um modelo simples como uma **árvore de decisão**, o número de regras pode ser aproximadamente igual ao número de caminhos até as folhas. Se os trens forem classificados em duas classes (leste e oeste), então o modelo deve ser capaz de extrair várias regras dependendo de como as características dos trens são agrupadas.\n"
   ]
  },
  {
   "cell_type": "markdown",
   "id": "db3358a7",
   "metadata": {},
   "source": [
    "## 3. Verifique se sua solução classifica, de forma aproximada, de acordo comas seguintes teorias\n",
    "### A.Se um trem tem um vagão curto e fechado, então ele vai para o leste, caso contrário, vai para o oeste (note que isto é uma descrição textual da regra lógica da questão 2.b)\n",
    "### B.Se um trem tem dois vagões, ou tem um vagão com teto irregular, então ele vai para o oeste, caso contrário, vai para o leste\n",
    "### C.Se um trem tiver mais de dois tipos diferentes de carga, então ele vai para o leste, caso contrário, vai para o oeste"
   ]
  },
  {
   "cell_type": "markdown",
   "id": "3edcf4ae",
   "metadata": {},
   "source": [
    "### 3. Verificação das Teorias\n",
    "\n",
    "#### 3.1. Teoria A: \"Se um trem tem um vagão curto e fechado, então ele vai para o leste, caso contrário, vai para o oeste\"\n",
    "- **Objetivo**: Verificar se o modelo classifica os trens conforme a regra fornecida.\n",
    "- **Solução**:\n",
    "  - Para isso, você pode verificar a contribuição das características `short(C)` e `closed_top(C)` no modelo. Se essas variáveis forem as mais importantes para a decisão do modelo e se os trens que têm essas características sejam classificados como \"leste\", então o modelo está alinhado com essa teoria.\n",
    "\n",
    "#### 3.2. Teoria B: \"Se um trem tem dois vagões, ou tem um vagão com teto irregular, então ele vai para o oeste, caso contrário, vai para o leste\"\n",
    "- **Objetivo**: Verificar se o modelo classifica os trens conforme a regra fornecida.\n",
    "- **Solução**:\n",
    "  - Você deve observar se o número de vagões (`num_wheels`) ou o teto irregular (`shape`) aparece como características importantes para classificar os trens como \"oeste\". Se essas variáveis são predominantes nas divisões que levam à classe \"oeste\", o modelo está seguindo a teoria.\n",
    "\n",
    "#### 3.3. Teoria C: \"Se um trem tiver mais de dois tipos diferentes de carga, então ele vai para o leste, caso contrário, vai para o oeste\"\n",
    "- **Objetivo**: Verificar se o modelo classifica os trens conforme a regra fornecida.\n",
    "- **Solução**:\n",
    "  - Aqui, você deve verificar a contribuição das variáveis que representam os tipos de carga (`load_shape`). Se o modelo prioriza trens com mais tipos de carga para a classe \"leste\", isso confirma que ele segue a teoria."
   ]
  },
  {
   "cell_type": "code",
   "execution_count": null,
   "id": "088606cf",
   "metadata": {},
   "outputs": [],
   "source": []
  }
 ],
 "metadata": {
  "kernelspec": {
   "display_name": "Python 3 (ipykernel)",
   "language": "python",
   "name": "python3"
  },
  "language_info": {
   "codemirror_mode": {
    "name": "ipython",
    "version": 3
   },
   "file_extension": ".py",
   "mimetype": "text/x-python",
   "name": "python",
   "nbconvert_exporter": "python",
   "pygments_lexer": "ipython3",
   "version": "3.10.6"
  }
 },
 "nbformat": 4,
 "nbformat_minor": 5
}
